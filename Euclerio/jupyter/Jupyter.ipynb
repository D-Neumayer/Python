{
 "cells": [
  {
   "cell_type": "code",
   "execution_count": null,
   "metadata": {},
   "outputs": [],
   "source": [
    "import requests as req\n",
    "import csv\n",
    "resposta = []\n",
    "result = req.get('https://proxylist.geonode.com/api/proxy-list?limit=500&page=1&sort_by=lastChecked&sort_type=desc')\n",
    "print(result.json())\n",
    "class Proxy:\n",
    "  def __init__(self, _id, ip, anonymityLevel, asn, city, country, created_at, google, isp,\n",
    "               lastChecked, latency, org, port, protocols, region=None, responseTime=None,\n",
    "               speed=None, updated_at=None, workingPercent=None, upTime=None,\n",
    "               upTimeSuccessCount=None, upTimeTryCount=None):\n",
    "\n",
    "    self._id = _id\n",
    "    self.ip = ip\n",
    "\n",
    "    self.anonymityLevel = anonymityLevel\n",
    "    self.asn = asn\n",
    "\n",
    "    self.city = city\n",
    "    self.country = country\n",
    "\n",
    "    self.created_at = created_at\n",
    "    self.google = google\n",
    "\n",
    "    self.isp = isp\n",
    "    self.lastChecked = lastChecked\n",
    "\n",
    "    self.latency = latency\n",
    "    self.org = org\n",
    "\n",
    "    self.port = port\n",
    "    self.protocols = protocols\n",
    "\n",
    "    self.region = region\n",
    "    self.responseTime = responseTime\n",
    "\n",
    "    self.speed = speed\n",
    "    self.updated_at = updated_at\n",
    "\n",
    "    self.workingPercent = workingPercent\n",
    "    self.upTime = upTime\n",
    "\n",
    "    self.upTimeSuccessCount = upTimeSuccessCount\n",
    "    self.upTimeTryCount = upTimeTryCount"
   ]
  },
  {
   "cell_type": "code",
   "execution_count": null,
   "metadata": {},
   "outputs": [],
   "source": [
    "def map_to_proxy(data):\n",
    "    proxy_list = []\n",
    "    for entry in data['data']:\n",
    "        proxy_obj = Proxy(**entry)\n",
    "        proxy_list.append(proxy_obj)\n",
    "    return proxy_list"
   ]
  },
  {
   "cell_type": "code",
   "execution_count": null,
   "metadata": {},
   "outputs": [],
   "source": [
    "proxy_objects = map_to_proxy(result.json())\n",
    "for proxy in proxy_objects:\n",
    "   print(vars(proxy))\n",
    "   with open('03_04_2024_questao_1.csv', 'w', newline='') as file:\n",
    "        resposta = vars(proxy)\n",
    "        writer = csv.writer(file)\n",
    "        writer.writerow(resposta)"
   ]
  },
  {
   "cell_type": "code",
   "execution_count": 33,
   "metadata": {},
   "outputs": [],
   "source": [
    "import requests\n",
    "import csv\n",
    "import json\n",
    "simbolos = [\"1INCHUSD\", \"1INCHUSD4\", \"1INCHUSDT\", \"AAVEUSD\", \"AAVEUSD4\", \"AAVEUSDT\", \"ACHUSD\", \"ACHUSD4\", \"ACHUSDT\", \"ADABTC\", \"ADABUSD\", \"ADAETH\", \"ADAUSD\", \n",
    "            \"ADAUSD4\", \"ADAUSDC\", \"ADAUSDT\", \"ADXUSDT\", \"ALGOBUSD\"]\n",
    "\n",
    "for simbolo in simbolos:\n",
    "    api_url = 'https://api.api-ninjas.com/v1/cryptoprice?symbol={}'.format(simbolo)\n",
    "    response = requests.get(api_url, headers={'X-Api-Key': 'nlHo72g0SA2zdicqXuoYSw==UjznvmgWhGpNdSqI'})\n",
    "    if response.status_code == requests.codes.ok:\n",
    "        data = json.loads(response.text)\n",
    "        with open('data.csv', 'a', newline='') as file:\n",
    "            writer = csv.writer(file)\n",
    "            if file.tell() == 0:\n",
    "                writer.writerow([\"Symbol\", \"Price\", \"Timestamp\"])\n",
    "            writer.writerow([data.get(\"symbol\"), data.get(\"price\"), data.get(\"timestamp\")])\n",
    "        \n",
    "    else:\n",
    "        print(\"Error:\", response.status_code, response.text)"
   ]
  }
 ],
 "metadata": {
  "kernelspec": {
   "display_name": "Python 3",
   "language": "python",
   "name": "python3"
  },
  "language_info": {
   "codemirror_mode": {
    "name": "ipython",
    "version": 3
   },
   "file_extension": ".py",
   "mimetype": "text/x-python",
   "name": "python",
   "nbconvert_exporter": "python",
   "pygments_lexer": "ipython3",
   "version": "3.10.11"
  }
 },
 "nbformat": 4,
 "nbformat_minor": 2
}
